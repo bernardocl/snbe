{
 "cells": [
  {
   "cell_type": "markdown",
   "id": "2f9d8fbd-b387-48a2-a0fa-5d137a0c7fcd",
   "metadata": {
    "tags": []
   },
   "source": [
    "# Análisis de datos de dataset SNBE al 2023_04\n",
    "\n",
    "Hoy (2023-04-06) me enteré, [por un reel](https://www.instagram.com/reel/Cqn3HJ-O0wv/), que se consiguieron los datos del **Sistema Nacional de Billetaje Electrónico** (SNBE) asi que me puse en contacto con Belén y Marcelo para poder hecharles una mirada.\n",
    "\n",
    "En el reel dice que son unos 8 CDs 🤪, y cuando obtuve acceso a los datos me encontré con un archio `.rar` partido en 8 (jeje). Al descomprimirlo aparecieron 15 archivos `.csv`."
   ]
  },
  {
   "cell_type": "markdown",
   "id": "74e49dd4-da8f-4b1c-861b-356f63b50822",
   "metadata": {
    "tags": []
   },
   "source": [
    "## Cuantos archivos tenemos?"
   ]
  },
  {
   "cell_type": "code",
   "execution_count": 1,
   "id": "c5bb695b-1d40-426f-8a68-962ce3ef6a57",
   "metadata": {
    "tags": []
   },
   "outputs": [
    {
     "name": "stdout",
     "output_type": "stream",
     "text": [
      "2b6aba2207ce5595db34050612aeb0cc976a9f3a4d555ce4d7cfb5ec9c0952b3  data/source/INFORMACION SNBE/1- Enero_2022.csv\n",
      "e31c9de1930c0fdd230889a7737473413e19f3c16e547134e81afd6b8b5d1baf  data/source/INFORMACION SNBE/10- Octubre_2022.csv\n",
      "d9314f96967e63b16e4f9afb68cb637727d0177dccbb609086b9404537a41702  data/source/INFORMACION SNBE/11- Noviembre_2022.csv\n",
      "8bf8d04e534c33be1d0520d919cdecbaa9d6ecda152b0cb271dcbd7395195457  data/source/INFORMACION SNBE/12- Diciembre_2022.csv\n",
      "855e03d373d76466b658511a11b07f5727ee5cfa821ca049de974e22800d430b  data/source/INFORMACION SNBE/13- Enero_2023.csv\n",
      "1784c6ddc5b3efab34903c5ba4fb274de96bff789d13d3c9f6875906029e57d1  data/source/INFORMACION SNBE/14- Febrero_2023.csv\n",
      "f54b8e6fbe7fcdc00454c072f6492ac3da3e85057e1d8f8bb56312e0aa61a740  data/source/INFORMACION SNBE/15- Marzo_2023.csv\n",
      "5c99d08625919ae26d314b552e04e2b013278468ae24a7cbc27d832f40127cab  data/source/INFORMACION SNBE/2- Febrero_2022.csv\n",
      "deffda61b82438a569afb0182232b476ab080757cd550cfe40cef886e120f03c  data/source/INFORMACION SNBE/3- Marzo_2022.csv\n",
      "3081643af61407300bb6dbf71f7edc6d990a269a861236fe9a81cf765472b8f8  data/source/INFORMACION SNBE/4- Abril_2022.csv\n",
      "9f455e49ae735baf0a27a906a6292c231af20d848b3029baa4455fcdb913287c  data/source/INFORMACION SNBE/5- Mayo_2022.csv\n",
      "889586b733f1515533170b47572fea51ca6b8ab1b526adc13331ea8b1f523767  data/source/INFORMACION SNBE/6- Junio_2022.csv\n",
      "76053bade33194641470d8c043d4d6370e285019cb8448b9f80fe9062d42b859  data/source/INFORMACION SNBE/7- Julio_2022.csv\n",
      "2d019505bee2db37967daccbc409b17b541305268db72258055202f0dc99a354  data/source/INFORMACION SNBE/8- Agosto_2022.csv\n",
      "fc3b6ba78a73044d0124b54ac4a26d340be8f14d70d0ff4685662bbe5c724bc9  data/source/INFORMACION SNBE/9- Setiembre_2022.csv\n"
     ]
    }
   ],
   "source": [
    "%%bash\n",
    "find data/source/INFORMACION\\ SNBE/ -type f  -exec sha256sum {} \\;"
   ]
  },
  {
   "cell_type": "markdown",
   "id": "e6689f32-cdaa-41a4-86d4-b7f277afec14",
   "metadata": {
    "tags": []
   },
   "source": [
    "Un archivo por mes desde Enero del 2022 hasta Marzo del 2023. Supongo que está bien teniendo en cuenta que tienen que ser muchísimos registros, y como son `csv` son texto plano."
   ]
  },
  {
   "cell_type": "markdown",
   "id": "ea40a5fd-433f-4e64-9c32-1fdda10fb3ed",
   "metadata": {
    "tags": []
   },
   "source": [
    "## Cuanto será que pesan los archivos?"
   ]
  },
  {
   "cell_type": "code",
   "execution_count": 2,
   "id": "7324af1a-ea47-4ba7-8bbc-a56ae589a510",
   "metadata": {
    "tags": []
   },
   "outputs": [
    {
     "name": "stdout",
     "output_type": "stream",
     "text": [
      "1.8G\tdata/source/INFORMACION SNBE/10- Octubre_2022.csv\n",
      "1.8G\tdata/source/INFORMACION SNBE/11- Noviembre_2022.csv\n",
      "1.8G\tdata/source/INFORMACION SNBE/12- Diciembre_2022.csv\n",
      "1.6G\tdata/source/INFORMACION SNBE/13- Enero_2023.csv\n",
      "1.5G\tdata/source/INFORMACION SNBE/14- Febrero_2023.csv\n",
      "1.9G\tdata/source/INFORMACION SNBE/15- Marzo_2023.csv\n",
      "1.3G\tdata/source/INFORMACION SNBE/1- Enero_2022.csv\n",
      "1.4G\tdata/source/INFORMACION SNBE/2- Febrero_2022.csv\n",
      "1.7G\tdata/source/INFORMACION SNBE/3- Marzo_2022.csv\n",
      "1.6G\tdata/source/INFORMACION SNBE/4- Abril_2022.csv\n",
      "1.7G\tdata/source/INFORMACION SNBE/5- Mayo_2022.csv\n",
      "1.7G\tdata/source/INFORMACION SNBE/6- Junio_2022.csv\n",
      "1.8G\tdata/source/INFORMACION SNBE/7- Julio_2022.csv\n",
      "1.9G\tdata/source/INFORMACION SNBE/8- Agosto_2022.csv\n",
      "1.8G\tdata/source/INFORMACION SNBE/9- Setiembre_2022.csv\n"
     ]
    }
   ],
   "source": [
    "%%bash\n",
    "du -bsh data/source/INFORMACION\\ SNBE/*"
   ]
  },
  {
   "cell_type": "markdown",
   "id": "e8adf11a-7864-49bb-9c2f-1cde299e9bf5",
   "metadata": {
    "tags": []
   },
   "source": [
    "## Cuantos registros tienen los archivos?"
   ]
  },
  {
   "cell_type": "code",
   "execution_count": null,
   "id": "977cbe6d-eae8-4f02-8489-bf124a81bed3",
   "metadata": {
    "tags": []
   },
   "outputs": [
    {
     "name": "stdout",
     "output_type": "stream",
     "text": [
      "   15137196 data/source/INFORMACION SNBE/10- Octubre_2022.csv\n",
      "   15421223 data/source/INFORMACION SNBE/11- Noviembre_2022.csv\n",
      "   15264875 data/source/INFORMACION SNBE/12- Diciembre_2022.csv\n"
     ]
    }
   ],
   "source": [
    "%%bash\n",
    "wc -l data/source/INFORMACION\\ SNBE/*"
   ]
  },
  {
   "cell_type": "markdown",
   "id": "974c0b7f-d14e-4ef5-b5c8-bb37d730c35f",
   "metadata": {
    "tags": []
   },
   "source": [
    "En fin, vamos a leerlos en un `DataFrame` de `spark` y guardarlos como parquet rápidamente."
   ]
  },
  {
   "cell_type": "markdown",
   "id": "8fb55a05-9ba9-4862-b6e6-c27f70ccd181",
   "metadata": {
    "tags": []
   },
   "source": [
    "## A ver un archivo?"
   ]
  },
  {
   "cell_type": "code",
   "execution_count": null,
   "id": "76aa8343-7da1-4585-bf81-d462b881c298",
   "metadata": {
    "tags": []
   },
   "outputs": [],
   "source": [
    "%%bash\n",
    "head -1 data/source/INFORMACION\\ SNBE/1-\\ Enero_2022.csv"
   ]
  },
  {
   "cell_type": "markdown",
   "id": "ff56b7d8-ac29-4d42-9817-4264c51ee8b1",
   "metadata": {
    "tags": []
   },
   "source": [
    "Al final no eran `csv` pero si un text delimited file separado por `;`.\n",
    "\n",
    "Veo que tiene información sensible, la columna `serialtarjeta`. Es por eso que muestro solo la primera fila."
   ]
  },
  {
   "cell_type": "markdown",
   "id": "76350088-c0e7-467f-8e41-135db948dfa7",
   "metadata": {
    "tags": []
   },
   "source": [
    "## Cargo los datos a Spark"
   ]
  },
  {
   "cell_type": "markdown",
   "id": "2778e7cf-cfa1-4d77-b117-2d05f7e057a8",
   "metadata": {},
   "source": [
    "El código en esta sección es el resultado de un proceso iterativo para asignar tipos de datos correctos a las columnas."
   ]
  },
  {
   "cell_type": "code",
   "execution_count": null,
   "id": "5dea6402-4aba-4dd9-bb44-9d3b3a5dfc59",
   "metadata": {
    "tags": []
   },
   "outputs": [],
   "source": [
    "from pyspark.sql import SparkSession\n",
    "from pyspark.sql import functions as F\n",
    "\n",
    "spark = SparkSession.builder.getOrCreate()\n",
    "snbe = spark.read.csv(\"data/source/INFORMACION SNBE/*.csv\", sep=\";\", header=True)\n",
    "snbe.printSchema()\n",
    "\n",
    "snbe = (\n",
    "    snbe\n",
    "    .select(\n",
    "        F.expr(\"sha2(serialtarjeta, 512)\").alias(\"serial_tarjeta\"),\n",
    "        F.expr(\"idsam\").alias(\"id_sam\"),\n",
    "        F.expr(\"to_timestamp(substring(fechahoraevento, 1, 23), 'yyyy/MM/dd HH:mm:ss.SSS')\").alias(\"timestamp_evento\"),\n",
    "        \"producto\",\n",
    "        F.expr(\"cast(montoevento as int)\").alias(\"monto_evento\"),\n",
    "        F.expr(\"cast(consecutivoevento as int)\").alias(\"consecutivo_evento\"),\n",
    "        F.expr(\"cast(identidad as int)\").alias(\"identidad\"),\n",
    "        F.expr(\"cast(tipoevento as int)\").alias(\"tipo_evento\"),\n",
    "        F.expr(\"cast(latitude as float)\").alias(\"latitude\"),\n",
    "        F.expr(\"cast(longitude as float)\").alias(\"longitude\"),\n",
    "        F.expr(\"idrutaestacion\").alias(\"id_rutaestacion\"),\n",
    "        F.expr(\"tipotransporte\").alias(\"tipo_transporte\"),\n",
    "    )\n",
    "    .withColumn(\"event_year\", F.expr(\"year(timestamp_evento)\"))\n",
    "    .withColumn(\"event_month\", F.expr(\"month(timestamp_evento)\"))\n",
    "    .withColumn(\"event_day\", F.expr(\"day(timestamp_evento)\"))\n",
    ")\n",
    "snbe.printSchema()"
   ]
  },
  {
   "cell_type": "code",
   "execution_count": null,
   "id": "28c687dd-223f-4a4e-9caa-50980011f3cf",
   "metadata": {
    "tags": []
   },
   "outputs": [],
   "source": [
    "(\n",
    "    snbe.write\n",
    "    .partitionBy(\"event_year\",\"event_month\", \"event_day\")\n",
    "    .parquet(\"data/raw/snbe\")\n",
    ")"
   ]
  },
  {
   "cell_type": "code",
   "execution_count": null,
   "id": "abb18c0e-892e-401a-9631-2f138d5fcf1d",
   "metadata": {
    "tags": []
   },
   "outputs": [],
   "source": [
    "snbe = spark.read.parquet(\"data/raw/snbe\")"
   ]
  },
  {
   "cell_type": "code",
   "execution_count": null,
   "id": "15e5749f-b920-4f6e-930d-bbd5c1d3a3fa",
   "metadata": {
    "tags": []
   },
   "outputs": [],
   "source": [
    "snbe.describe()"
   ]
  }
 ],
 "metadata": {
  "kernelspec": {
   "display_name": "Python 3 (ipykernel)",
   "language": "python",
   "name": "python3"
  },
  "language_info": {
   "codemirror_mode": {
    "name": "ipython",
    "version": 3
   },
   "file_extension": ".py",
   "mimetype": "text/x-python",
   "name": "python",
   "nbconvert_exporter": "python",
   "pygments_lexer": "ipython3",
   "version": "3.10.10"
  }
 },
 "nbformat": 4,
 "nbformat_minor": 5
}
