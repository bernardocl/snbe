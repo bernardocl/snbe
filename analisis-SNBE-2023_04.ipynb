{
 "cells": [
  {
   "cell_type": "markdown",
   "id": "2f9d8fbd-b387-48a2-a0fa-5d137a0c7fcd",
   "metadata": {
    "tags": []
   },
   "source": [
    "# Análisis de datos de dataset SNBE al 2023_04\n",
    "\n",
    "Hoy (2023-04-06) me enteré, [por un reel](https://www.instagram.com/reel/Cqn3HJ-O0wv/), que se consiguieron los datos del **Sistema Nacional de Billetaje Electrónico** (SNBE) asi que me puse en contacto con Belén y Marcelo para poder hecharles una mirada.\n",
    "\n",
    "En el reel dice que son unos 8 CDs 🤪, y cuando obtuve acceso a los datos me encontré con un archio `.rar` partido en 8 (jeje). Al descomprimirlo aparecieron 15 archivos `.csv`."
   ]
  },
  {
   "cell_type": "markdown",
   "id": "74e49dd4-da8f-4b1c-861b-356f63b50822",
   "metadata": {
    "tags": []
   },
   "source": [
    "## Cuantos archivos tenemos?"
   ]
  },
  {
   "cell_type": "code",
   "execution_count": 5,
   "id": "c5bb695b-1d40-426f-8a68-962ce3ef6a57",
   "metadata": {
    "tags": []
   },
   "outputs": [
    {
     "name": "stdout",
     "output_type": "stream",
     "text": [
      "55874af68237ec2265283a2cf0b64fc9  data/source/INFORMACION SNBE/1- Enero_2022.csv\n",
      "6c01bf153a45bd76a41cf7590a279d3e  data/source/INFORMACION SNBE/10- Octubre_2022.csv\n",
      "b85f8ec08ea310f8e190083620ce9333  data/source/INFORMACION SNBE/11- Noviembre_2022.csv\n",
      "a54cfae67cc3f6c3930366a66e1a9281  data/source/INFORMACION SNBE/12- Diciembre_2022.csv\n",
      "5e527dad7b8066fec36db8b77766df54  data/source/INFORMACION SNBE/13- Enero_2023.csv\n",
      "579bc8705138385d31f6160312e45580  data/source/INFORMACION SNBE/14- Febrero_2023.csv\n",
      "edad9d2428cdf9ba866dbdda69a3298b  data/source/INFORMACION SNBE/15- Marzo_2023.csv\n",
      "663cdbf31c2d49a0d328476e112a4f63  data/source/INFORMACION SNBE/2- Febrero_2022.csv\n",
      "70bbb1ffac70eef02f0f0a8964305830  data/source/INFORMACION SNBE/3- Marzo_2022.csv\n",
      "d90fed7b572614097bba2ebb569117af  data/source/INFORMACION SNBE/4- Abril_2022.csv\n",
      "b1a327b74c54d85c0676c8609d47221e  data/source/INFORMACION SNBE/5- Mayo_2022.csv\n",
      "46c98219fbd78bc1dcc0febb9d406c9e  data/source/INFORMACION SNBE/6- Junio_2022.csv\n",
      "217533cf9697d4f7ec68781180283dd9  data/source/INFORMACION SNBE/7- Julio_2022.csv\n",
      "3160045de1bb080446497b222f6a2e0a  data/source/INFORMACION SNBE/8- Agosto_2022.csv\n",
      "d6c9037f86434486cd05815a68f80339  data/source/INFORMACION SNBE/9- Setiembre_2022.csv\n"
     ]
    }
   ],
   "source": [
    "%%bash\n",
    "find data/source/INFORMACION\\ SNBE/ -type f  -exec md5sum {} \\;"
   ]
  },
  {
   "cell_type": "markdown",
   "id": "e6689f32-cdaa-41a4-86d4-b7f277afec14",
   "metadata": {
    "tags": []
   },
   "source": [
    "Un archivo por mes desde Enero del 2022 hasta Marzo del 2023. Supongo que está bien teniendo en cuenta que tienen que ser muchísimos registros, y como son `csv` son texto plano."
   ]
  },
  {
   "cell_type": "markdown",
   "id": "ea40a5fd-433f-4e64-9c32-1fdda10fb3ed",
   "metadata": {
    "tags": []
   },
   "source": [
    "## Cuanto será que pesan los archivos?"
   ]
  },
  {
   "cell_type": "code",
   "execution_count": 2,
   "id": "7324af1a-ea47-4ba7-8bbc-a56ae589a510",
   "metadata": {
    "tags": []
   },
   "outputs": [
    {
     "name": "stdout",
     "output_type": "stream",
     "text": [
      "1.8G\tdata/source/INFORMACION SNBE/10- Octubre_2022.csv\n",
      "1.8G\tdata/source/INFORMACION SNBE/11- Noviembre_2022.csv\n",
      "1.8G\tdata/source/INFORMACION SNBE/12- Diciembre_2022.csv\n",
      "1.6G\tdata/source/INFORMACION SNBE/13- Enero_2023.csv\n",
      "1.5G\tdata/source/INFORMACION SNBE/14- Febrero_2023.csv\n",
      "1.9G\tdata/source/INFORMACION SNBE/15- Marzo_2023.csv\n",
      "1.3G\tdata/source/INFORMACION SNBE/1- Enero_2022.csv\n",
      "1.4G\tdata/source/INFORMACION SNBE/2- Febrero_2022.csv\n",
      "1.7G\tdata/source/INFORMACION SNBE/3- Marzo_2022.csv\n",
      "1.6G\tdata/source/INFORMACION SNBE/4- Abril_2022.csv\n",
      "1.7G\tdata/source/INFORMACION SNBE/5- Mayo_2022.csv\n",
      "1.7G\tdata/source/INFORMACION SNBE/6- Junio_2022.csv\n",
      "1.8G\tdata/source/INFORMACION SNBE/7- Julio_2022.csv\n",
      "1.9G\tdata/source/INFORMACION SNBE/8- Agosto_2022.csv\n",
      "1.8G\tdata/source/INFORMACION SNBE/9- Setiembre_2022.csv\n"
     ]
    }
   ],
   "source": [
    "%%bash\n",
    "du -bsh data/source/INFORMACION\\ SNBE/*"
   ]
  },
  {
   "cell_type": "markdown",
   "id": "e8adf11a-7864-49bb-9c2f-1cde299e9bf5",
   "metadata": {
    "tags": []
   },
   "source": [
    "## Cuantos registros tienen los archivos?"
   ]
  },
  {
   "cell_type": "code",
   "execution_count": 3,
   "id": "977cbe6d-eae8-4f02-8489-bf124a81bed3",
   "metadata": {
    "tags": []
   },
   "outputs": [
    {
     "name": "stdout",
     "output_type": "stream",
     "text": [
      "   15137196 data/source/INFORMACION SNBE/10- Octubre_2022.csv\n",
      "   15421223 data/source/INFORMACION SNBE/11- Noviembre_2022.csv\n",
      "   15264875 data/source/INFORMACION SNBE/12- Diciembre_2022.csv\n",
      "   13464581 data/source/INFORMACION SNBE/13- Enero_2023.csv\n",
      "   13076949 data/source/INFORMACION SNBE/14- Febrero_2023.csv\n",
      "   16569684 data/source/INFORMACION SNBE/15- Marzo_2023.csv\n",
      "   11372718 data/source/INFORMACION SNBE/1- Enero_2022.csv\n",
      "   12349177 data/source/INFORMACION SNBE/2- Febrero_2022.csv\n",
      "   14717119 data/source/INFORMACION SNBE/3- Marzo_2022.csv\n",
      "   13361426 data/source/INFORMACION SNBE/4- Abril_2022.csv\n",
      "   14645764 data/source/INFORMACION SNBE/5- Mayo_2022.csv\n",
      "   14850336 data/source/INFORMACION SNBE/6- Junio_2022.csv\n",
      "   15433715 data/source/INFORMACION SNBE/7- Julio_2022.csv\n",
      "   16025858 data/source/INFORMACION SNBE/8- Agosto_2022.csv\n",
      "   15789069 data/source/INFORMACION SNBE/9- Setiembre_2022.csv\n",
      "  217479690 total\n"
     ]
    }
   ],
   "source": [
    "%%bash\n",
    "wc -l data/source/INFORMACION\\ SNBE/*"
   ]
  },
  {
   "cell_type": "markdown",
   "id": "974c0b7f-d14e-4ef5-b5c8-bb37d730c35f",
   "metadata": {
    "tags": []
   },
   "source": [
    "En fin, vamos a leerlos en un `DataFrame` de `spark` y guardarlos como parquet rápidamente."
   ]
  },
  {
   "cell_type": "markdown",
   "id": "8fb55a05-9ba9-4862-b6e6-c27f70ccd181",
   "metadata": {
    "tags": []
   },
   "source": [
    "## A ver un archivo?"
   ]
  },
  {
   "cell_type": "code",
   "execution_count": 10,
   "id": "76aa8343-7da1-4585-bf81-d462b881c298",
   "metadata": {
    "tags": []
   },
   "outputs": [
    {
     "name": "stdout",
     "output_type": "stream",
     "text": [
      "serialtarjeta;idsam;fechahoraevento;producto;montoevento;consecutivoevento;identidad;tipoevento;latitude;longitude;idrutaestacion;tipotransporte\n"
     ]
    }
   ],
   "source": [
    "%%bash\n",
    "head -1 data/source/INFORMACION\\ SNBE/1-\\ Enero_2022.csv"
   ]
  },
  {
   "cell_type": "markdown",
   "id": "ff56b7d8-ac29-4d42-9817-4264c51ee8b1",
   "metadata": {
    "tags": []
   },
   "source": [
    "Al final no eran `csv` pero si un text delimited file separado por `;`.\n",
    "\n",
    "Veo que tiene información sensible, la columna `serialtarjeta`. Es por eso que muestro solo la primera fila."
   ]
  },
  {
   "cell_type": "markdown",
   "id": "76350088-c0e7-467f-8e41-135db948dfa7",
   "metadata": {
    "tags": []
   },
   "source": [
    "## Cargo los datos a Spark"
   ]
  },
  {
   "cell_type": "markdown",
   "id": "2778e7cf-cfa1-4d77-b117-2d05f7e057a8",
   "metadata": {},
   "source": [
    "El código en esta sección es el resultado de un proceso iterativo para asignar tipos de datos correctos a las columnas."
   ]
  },
  {
   "cell_type": "code",
   "execution_count": 52,
   "id": "5dea6402-4aba-4dd9-bb44-9d3b3a5dfc59",
   "metadata": {
    "tags": []
   },
   "outputs": [
    {
     "name": "stdout",
     "output_type": "stream",
     "text": [
      "root\n",
      " |-- serialtarjeta: string (nullable = true)\n",
      " |-- idsam: string (nullable = true)\n",
      " |-- fechahoraevento: string (nullable = true)\n",
      " |-- producto: string (nullable = true)\n",
      " |-- montoevento: string (nullable = true)\n",
      " |-- consecutivoevento: string (nullable = true)\n",
      " |-- identidad: string (nullable = true)\n",
      " |-- tipoevento: string (nullable = true)\n",
      " |-- latitude: string (nullable = true)\n",
      " |-- longitude: string (nullable = true)\n",
      " |-- idrutaestacion: string (nullable = true)\n",
      " |-- tipotransporte: string (nullable = true)\n",
      "\n",
      "root\n",
      " |-- serial_tarjeta: string (nullable = true)\n",
      " |-- id_sam: string (nullable = true)\n",
      " |-- timestamp_evento: timestamp (nullable = true)\n",
      " |-- producto: string (nullable = true)\n",
      " |-- monto_evento: integer (nullable = true)\n",
      " |-- consecutivo_evento: integer (nullable = true)\n",
      " |-- identidad: integer (nullable = true)\n",
      " |-- tipo_evento: integer (nullable = true)\n",
      " |-- latitude: float (nullable = true)\n",
      " |-- longitude: float (nullable = true)\n",
      " |-- id_rutaestacion: string (nullable = true)\n",
      " |-- tipo_transporte: string (nullable = true)\n",
      " |-- event_year: integer (nullable = true)\n",
      " |-- event_month: integer (nullable = true)\n",
      " |-- event_day: integer (nullable = true)\n",
      " |-- event_hour: integer (nullable = true)\n",
      " |-- event_minute: integer (nullable = true)\n",
      "\n"
     ]
    }
   ],
   "source": [
    "import glob\n",
    "\n",
    "from pyspark.sql import SparkSession\n",
    "from pyspark.sql import functions as F\n",
    "\n",
    "spark = SparkSession.builder.getOrCreate()\n",
    "snbe = spark.read.csv(\"data/source/INFORMACION SNBE/*.csv\", sep=\";\", header=True)\n",
    "snbe.printSchema()\n",
    "\n",
    "snbe = (\n",
    "    snbe\n",
    "    .select(\n",
    "        F.expr(\"serialtarjeta\").alias(\"serial_tarjeta\"),\n",
    "        F.expr(\"idsam\").alias(\"id_sam\"),\n",
    "        F.expr(\"to_timestamp(substring(fechahoraevento, 1, 23), 'yyyy/MM/dd HH:mm:ss.SSS')\").alias(\"timestamp_evento\"),\n",
    "        \"producto\",\n",
    "        F.expr(\"cast(montoevento as int)\").alias(\"monto_evento\"),\n",
    "        F.expr(\"cast(consecutivoevento as int)\").alias(\"consecutivo_evento\"),\n",
    "        F.expr(\"cast(identidad as int)\").alias(\"identidad\"),\n",
    "        F.expr(\"cast(tipoevento as int)\").alias(\"tipo_evento\"),\n",
    "        F.expr(\"cast(latitude as float)\").alias(\"latitude\"),\n",
    "        F.expr(\"cast(longitude as float)\").alias(\"longitude\"),\n",
    "        F.expr(\"idrutaestacion\").alias(\"id_rutaestacion\"),\n",
    "        F.expr(\"tipotransporte\").alias(\"tipo_transporte\"),\n",
    "    )\n",
    "    .withColumn(\"event_year\", F.expr(\"year(timestamp_evento)\"))\n",
    "    .withColumn(\"event_month\", F.expr(\"month(timestamp_evento)\"))\n",
    "    .withColumn(\"event_day\", F.expr(\"day(timestamp_evento)\"))\n",
    "    .withColumn(\"event_hour\", F.expr(\"year(timestamp_evento)\"))\n",
    "    .withColumn(\"event_minute\", F.expr(\"year(timestamp_evento)\"))\n",
    ")\n",
    "snbe.printSchema()"
   ]
  },
  {
   "cell_type": "code",
   "execution_count": 55,
   "id": "28c687dd-223f-4a4e-9caa-50980011f3cf",
   "metadata": {
    "tags": []
   },
   "outputs": [],
   "source": [
    "(\n",
    "    snbe.write\n",
    "    .partitionBy(\"event_year\",\"event_month\", \"event_day\", \"event_hour\", \"event_minute\")\n",
    "    .parquet(\"data/raw/snbe\")\n",
    ")"
   ]
  }
 ],
 "metadata": {
  "kernelspec": {
   "display_name": "Python 3 (ipykernel)",
   "language": "python",
   "name": "python3"
  },
  "language_info": {
   "codemirror_mode": {
    "name": "ipython",
    "version": 3
   },
   "file_extension": ".py",
   "mimetype": "text/x-python",
   "name": "python",
   "nbconvert_exporter": "python",
   "pygments_lexer": "ipython3",
   "version": "3.10.10"
  }
 },
 "nbformat": 4,
 "nbformat_minor": 5
}
